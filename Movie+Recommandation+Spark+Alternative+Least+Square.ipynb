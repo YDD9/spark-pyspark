{
 "cells": [
  {
   "cell_type": "code",
   "execution_count": 1,
   "metadata": {
    "collapsed": true
   },
   "outputs": [],
   "source": [
    "import findspark\n",
    "# findspark.init('/usr/local/spark')\n",
    "findspark.init()\n",
    "# https://github.com/minrk/findspark\n",
    "\n",
    "import pyspark\n",
    "import random\n",
    "try:\n",
    "    del sc\n",
    "except:\n",
    "    pass\n",
    "sc = pyspark.SparkContext(appName='myTest')\n",
    "\n",
    "# sc.stop()"
   ]
  },
  {
   "cell_type": "markdown",
   "metadata": {
    "collapsed": true
   },
   "source": [
    "https://spark.apache.org/examples.html\n",
    "\n",
    "https://www.quora.com/What-is-the-Alternating-Least-Squares-method-in-recommendation-systems-And-why-does-this-algorithm-work-intuition-behind-this\n",
    "\n",
    "https://bugra.github.io/work/notes/2014-04-19/alternating-least-squares-method-for-collaborative-filtering/\n",
    "\n",
    "https://stanford.edu/~rezab/classes/cme323/S15/notes/lec14.pdf\n",
    "\n",
    "https://spark.apache.org/docs/2.2.0/api/python/pyspark.mllib.html#pyspark.mllib.recommendation.ALS\n",
    "\n",
    "https://www.codementor.io/jadianes/building-a-recommender-with-apache-spark-python-example-app-part1-du1083qbw\n"
   ]
  },
  {
   "cell_type": "code",
   "execution_count": 2,
   "metadata": {},
   "outputs": [
    {
     "name": "stdout",
     "output_type": "stream",
     "text": [
      "complete data downloaded\n",
      "small data downloaded\n"
     ]
    }
   ],
   "source": [
    "import os\n",
    "import urllib\n",
    "import zipfile \n",
    "\n",
    "# downloading data from web and unzip them to MovieData folder\n",
    "# https://stackoverflow.com/questions/7243750/download-file-from-web-in-python-3\n",
    "\n",
    "datasetPath = os.path.join(os.getcwd(), 'Downloads', 'MovieData')\n",
    "\n",
    "cDatasetPath = os.path.join(datasetPath, 'ml-latest.zip')\n",
    "sDatasetPath = os.path.join(datasetPath, 'ml-latest-small.zip')\n",
    "\n",
    "cDatasetUrl = 'http://files.grouplens.org/datasets/movielens/ml-latest.zip'\n",
    "sDatasetUrl = 'http://files.grouplens.org/datasets/movielens/ml-latest-small.zip'\n",
    "\n",
    "cDownload = urllib.request.urlretrieve(cDatasetUrl, cDatasetPath)\n",
    "print('complete data downloaded')\n",
    "sDownload = urllib.request.urlretrieve(sDatasetUrl, sDatasetPath)\n",
    "print('small data downloaded')\n",
    "\n",
    "with zipfile.ZipFile(cDatasetPath, 'r') as z:\n",
    "    z.extractall(datasetPath)\n",
    "    \n",
    "with zipfile.ZipFile(sDatasetPath, 'r') as z:\n",
    "    z.extractall(datasetPath)"
   ]
  },
  {
   "cell_type": "code",
   "execution_count": 3,
   "metadata": {},
   "outputs": [
    {
     "name": "stdout",
     "output_type": "stream",
     "text": [
      "For rank 4 the RMSE is 0.9306227802083504\n",
      "For rank 8 the RMSE is 0.9430857404117656\n",
      "For rank 12 the RMSE is 0.9444923612758019\n",
      "The best model was trained with rank 4\n",
      "\n",
      "Prediction Model: UserID, the MovieID, and the Rating\n",
      " [((302, 1084), 3.5142323156707356), ((358, 1084), 3.8431194591428897), ((242, 1084), 4.625278621518187)]\n"
     ]
    }
   ],
   "source": [
    "# import findspark\n",
    "# findspark.init()\n",
    "# https://github.com/minrk/findspark\n",
    "\n",
    "# import pyspark\n",
    "import os\n",
    "\n",
    "from pyspark.mllib.recommendation import ALS\n",
    "import math\n",
    "\n",
    "datasetPath = os.path.join(os.getcwd(), 'Downloads', 'MovieData')\n",
    "\n",
    "# sc = pyspark.SparkContext(appName='Recommand Movie')\n",
    "sc = pyspark.SparkContext.getOrCreate()\n",
    "\n",
    "# process ratings.csv\n",
    "sRatingsFile = os.path.join(datasetPath, 'ml-latest-small', 'ratings.csv')\n",
    "sRawData = sc.textFile(sRatingsFile)\n",
    "sRawDataHeader = sRawData.take(1)[0]\n",
    "# print(sRawDataHeader)\n",
    "\n",
    "sRatingsData = sRawData.filter(lambda line: line!=sRawDataHeader)\\\n",
    "                      .map(lambda line: line.split(','))\\\n",
    "                      .map(lambda tokens: (tokens[0], tokens[1], tokens[2]))\\\n",
    "                      .cache()\n",
    "\n",
    "# print(sRatingsData.take(3))\n",
    "\n",
    "\n",
    "# process movies.csv\n",
    "sMoviesFile = os.path.join(datasetPath, 'ml-latest-small', 'movies.csv')\n",
    "sMoviesRawData = sc.textFile(sMoviesFile)\n",
    "sMoviesRawDataHeader = sMoviesRawData.take(1)[0]\n",
    "\n",
    "sMoviesData = sMoviesRawData.filter(lambda line: line!=sMoviesRawDataHeader)\\\n",
    "                      .map(lambda line: line.split(','))\\\n",
    "                      .map(lambda tokens: (tokens[0], tokens[1]))\\\n",
    "                      .cache()\n",
    "\n",
    "# print(sMoviesData.take(3))\n",
    "\n",
    "\n",
    "# Collaborative Filtering\n",
    "# https://stackoverflow.com/questions/32933143/how-does-sparks-rdd-randomsplit-actually-split-the-rdd\n",
    "# http://www.grasshopper3d.com/forum/topics/what-are-random-seed-values\n",
    "training_RDD, validation_RDD, test_RDD = sRatingsData.randomSplit([6, 2, 2], seed=0)\n",
    "validation_for_predict_RDD = validation_RDD.map(lambda x: (x[0], x[1]))\n",
    "test_for_predict_RDD = test_RDD.map(lambda x: (x[0], x[1]))\n",
    "\n",
    "# train the model\n",
    "seed = 5\n",
    "iterations = 10\n",
    "regularization_parameter = 0.1\n",
    "ranks = [4, 8, 12]\n",
    "errors = [0, 0, 0]\n",
    "err = 0\n",
    "tolerance = 0.02\n",
    "\n",
    "min_error = float('inf')\n",
    "best_rank = -1\n",
    "best_iteration = -1\n",
    "for rank in ranks:\n",
    "    model = ALS.train(training_RDD, rank, seed=seed, iterations=iterations,\n",
    "                      lambda_=regularization_parameter)\n",
    "    predictions = model.predictAll(validation_for_predict_RDD).map(lambda r: ((r[0], r[1]), r[2]))\n",
    "    rates_and_preds = validation_RDD.map(lambda r: ((int(r[0]), int(r[1])), float(r[2]))).join(predictions)\n",
    "    error = math.sqrt(rates_and_preds.map(lambda r: (r[1][0] - r[1][1])**2).mean())\n",
    "    errors[err] = error\n",
    "    err += 1\n",
    "    print('For rank %s the RMSE is %s' % (rank, error))\n",
    "    if error < min_error:\n",
    "        min_error = error\n",
    "        best_rank = rank\n",
    "\n",
    "print('The best model was trained with rank %s' % best_rank)\n",
    "\n",
    "print('\\nPrediction Model: UserID, the MovieID, and the Rating\\n',predictions.take(3))\n",
    "sc.stop()"
   ]
  },
  {
   "cell_type": "markdown",
   "metadata": {
    "collapsed": true
   },
   "source": [
    "https://datascience.ibm.com/exchange/public/entry/view/99b857815e69353c04d95daefb3b91fa\n",
    "    IBM explained movie recommandation"
   ]
  }
 ],
 "metadata": {
  "kernelspec": {
   "display_name": "Python 3",
   "language": "python",
   "name": "python3"
  },
  "language_info": {
   "codemirror_mode": {
    "name": "ipython",
    "version": 3
   },
   "file_extension": ".py",
   "mimetype": "text/x-python",
   "name": "python",
   "nbconvert_exporter": "python",
   "pygments_lexer": "ipython3",
   "version": "3.6.3"
  }
 },
 "nbformat": 4,
 "nbformat_minor": 2
}
