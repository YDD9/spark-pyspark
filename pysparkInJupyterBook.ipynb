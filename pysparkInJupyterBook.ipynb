{
 "cells": [
  {
   "cell_type": "markdown",
   "metadata": {},
   "source": [
    "# installation and start guide\n",
    "https://www.datacamp.com/community/tutorials/apache-spark-tutorial-machine-learning\n",
    "\n",
    "\n",
    "Python 3.6.3 | Anaconda\n",
    "Spark 2.2.0"
   ]
  },
  {
   "cell_type": "code",
   "execution_count": 1,
   "metadata": {},
   "outputs": [
    {
     "name": "stdout",
     "output_type": "stream",
     "text": [
      "/predix\n"
     ]
    }
   ],
   "source": [
    "import os\n",
    "print(os.getcwd())"
   ]
  },
  {
   "cell_type": "code",
   "execution_count": 2,
   "metadata": {},
   "outputs": [
    {
     "name": "stdout",
     "output_type": "stream",
     "text": [
      "[0, 1, 2]\n"
     ]
    }
   ],
   "source": [
    "try:\n",
    "    del sc  # delete the existing SparkContext, can't run multiple ones.\n",
    "except:\n",
    "    pass\n",
    "\n",
    "import findspark\n",
    "findspark.init()\n",
    "\n",
    "import pyspark\n",
    "sc = pyspark.SparkContext(appName='SC')\n",
    "\n",
    "distData = sc.parallelize(range(10**9))\n",
    "print(distData.take(3))\n",
    "\n",
    "sc.stop()"
   ]
  },
  {
   "cell_type": "code",
   "execution_count": 3,
   "metadata": {},
   "outputs": [
    {
     "name": "stdout",
     "output_type": "stream",
     "text": [
      "3.141519496\n"
     ]
    }
   ],
   "source": [
    "# official example to calculate Pi approximately\n",
    "# https://spark.apache.org/examples.html\n",
    "del sc\n",
    "\n",
    "import findspark\n",
    "findspark.init('/usr/local/spark')\n",
    "# https://github.com/minrk/findspark\n",
    "\n",
    "import pyspark\n",
    "import random\n",
    "\n",
    "sc = pyspark.SparkContext(appName='myPi')\n",
    "num_samples= 10 ** 9\n",
    "\n",
    "def insdie(p):\n",
    "    x, y = random.random(), random.random()\n",
    "    return x*x + y*y < 1\n",
    "\n",
    "count = sc.parallelize(range(0, num_samples)).filter(insdie).count()\n",
    "\n",
    "pi = 4 * count / num_samples\n",
    "print(pi)\n",
    "\n",
    "sc.stop()"
   ]
  },
  {
   "cell_type": "code",
   "execution_count": 1,
   "metadata": {},
   "outputs": [
    {
     "name": "stdout",
     "output_type": "stream",
     "text": [
      "Process starts\n",
      "1567089\n",
      "[INFO] Scanning for projects...\n",
      "['[INFO] Scanning for projects...', '[INFO] ', '[INFO] ------------------------------------------------------------------------', '[INFO] Building genericframework-service 2.0.15', '[INFO] ------------------------------------------------------------------------']\n",
      "90743\n",
      "Process ends\n"
     ]
    }
   ],
   "source": [
    "# official example text search https://spark.apache.org/examples.html\n",
    "# https://spark.apache.org/docs/2.2.0/rdd-programming-guide.html\n",
    "\n",
    "try:\n",
    "    del sc \n",
    "except:\n",
    "    pass\n",
    "\n",
    "import findspark\n",
    "findspark.init()\n",
    "\n",
    "import pyspark\n",
    "\n",
    "sc = pyspark.SparkContext(appName='wordsCount')\n",
    "# sc = pyspark.SparkContext.getOrCreate()\n",
    "lines = sc.textFile('log.log')\n",
    "\n",
    "linesLength = lines.map(lambda s: len(s))\n",
    "# persist() would cause lineLengths to be saved in memory after the first time it is computed.\n",
    "# You can mark an RDD to be persisted using the persist() or cache() methods on it. \n",
    "totalLength = linesLength.persist().reduce(lambda a, b: a + b)\n",
    "print('Process starts')\n",
    "print(totalLength)\n",
    "\n",
    "print(lines.first())\n",
    "print(lines.take(5))\n",
    "\n",
    "def wordsCount(s):\n",
    "    return len(s.split(\" \"))\n",
    "words = lines.map(wordsCount).reduce(lambda a,b: a + b)\n",
    "print(words)\n",
    "\n",
    "\n",
    "sc.stop()\n",
    "print('Process ends')\n"
   ]
  },
  {
   "cell_type": "code",
   "execution_count": null,
   "metadata": {
    "collapsed": true
   },
   "outputs": [],
   "source": []
  }
 ],
 "metadata": {
  "kernelspec": {
   "display_name": "Python 3",
   "language": "python",
   "name": "python3"
  },
  "language_info": {
   "codemirror_mode": {
    "name": "ipython",
    "version": 3
   },
   "file_extension": ".py",
   "mimetype": "text/x-python",
   "name": "python",
   "nbconvert_exporter": "python",
   "pygments_lexer": "ipython3",
   "version": "3.6.3"
  }
 },
 "nbformat": 4,
 "nbformat_minor": 2
}
