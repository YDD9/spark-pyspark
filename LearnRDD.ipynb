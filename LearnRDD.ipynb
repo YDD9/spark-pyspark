{
 "cells": [
  {
   "cell_type": "markdown",
   "metadata": {},
   "source": [
    "# RDD operation example\n",
    "https://www.codementor.io/jadianes/spark-python-rdd-basics-du107x2ra\n",
    "\n",
    "https://www.jianshu.com/p/321034864bdb\n",
    "\n"
   ]
  },
  {
   "cell_type": "code",
   "execution_count": 4,
   "metadata": {
    "collapsed": true
   },
   "outputs": [],
   "source": [
    "import findspark\n",
    "findspark.init()\n",
    "\n",
    "import pyspark\n",
    "sc = pyspark.SparkContext.getOrCreate()\n",
    "\n",
    "from pyspark.sql import SQLContext\n",
    "sqlContext = SQLContext(sc)\n",
    "\n"
   ]
  },
  {
   "cell_type": "code",
   "execution_count": 16,
   "metadata": {},
   "outputs": [
    {
     "name": "stdout",
     "output_type": "stream",
     "text": [
      "+-----+--------+\n",
      "|count|    word|\n",
      "+-----+--------+\n",
      "|73342|   cells|\n",
      "|62861|    cell|\n",
      "|61714| studies|\n",
      "|61377|     aim|\n",
      "|60168|clinical|\n",
      "+-----+--------+\n",
      "\n",
      "[[(73342, 'cells'), (62861, 'cell'), (61714, 'studies'), (61377, 'aim'), (60168, 'clinical')]]\n"
     ]
    }
   ],
   "source": [
    "rdd = [(73342, u'cells'), (62861, u'cell'), (61714, u'studies'), (61377, u'aim'), (60168, u'clinical')]\n",
    "# First I convert the RDD to dataframe\n",
    "# from pyspark import SparkContext\n",
    "df = sqlContext.createDataFrame(rdd, ['count', 'word'])\n",
    "df.show()\n",
    "\n",
    "rdd = sc.parallelize([rdd])\n",
    "print(rdd.take(3))  # rdd.show() do not work, RDD do not have .show(), only DataFrame.show() work\n",
    "\n",
    "# Write CSV (if file already exist, Overwrite)\n",
    "df.coalesce(1).write.format('com.databricks.spark.csv').options(header='true').mode(saveMode='Overwrite').save('file:///home/username/csv_out')\n",
    "\n"
   ]
  },
  {
   "cell_type": "code",
   "execution_count": null,
   "metadata": {
    "collapsed": true
   },
   "outputs": [],
   "source": [
    "# mapPartitionsWithIndex / mapPartitions is quicker than map in case operation needs on each element spread in partitions\n",
    "rdd.mapPartitionsWithIndex { (idx, iter) => if (idx == 0) iter.drop(1) else iter }\n",
    "\n"
   ]
  }
 ],
 "metadata": {
  "kernelspec": {
   "display_name": "Python 3",
   "language": "python",
   "name": "python3"
  },
  "language_info": {
   "codemirror_mode": {
    "name": "ipython",
    "version": 3
   },
   "file_extension": ".py",
   "mimetype": "text/x-python",
   "name": "python",
   "nbconvert_exporter": "python",
   "pygments_lexer": "ipython3",
   "version": "3.6.3"
  }
 },
 "nbformat": 4,
 "nbformat_minor": 2
}
